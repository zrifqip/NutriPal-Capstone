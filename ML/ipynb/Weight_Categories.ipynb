{
  "nbformat": 4,
  "nbformat_minor": 0,
  "metadata": {
    "colab": {
      "provenance": []
    },
    "kernelspec": {
      "name": "python3",
      "display_name": "Python 3"
    },
    "language_info": {
      "name": "python"
    }
  },
  "cells": [
    {
      "cell_type": "code",
      "execution_count": 14,
      "metadata": {
        "id": "J4gJg6L8a--x"
      },
      "outputs": [],
      "source": [
        "import numpy as np\n",
        "import pandas as pd\n",
        "from sklearn.model_selection import train_test_split\n",
        "from sklearn.preprocessing import StandardScaler\n",
        "from sklearn.compose import ColumnTransformer\n",
        "from sklearn.preprocessing import OneHotEncoder\n",
        "import tensorflow as tf"
      ]
    },
    {
      "cell_type": "code",
      "source": [
        "df = pd.read_csv('weight_encoded_2.csv')\n",
        "df.sample(5)"
      ],
      "metadata": {
        "colab": {
          "base_uri": "https://localhost:8080/",
          "height": 270
        },
        "id": "xV7ujtKlbK7J",
        "outputId": "f61d18f9-97a6-45de-ccf3-23e8e19a83ed"
      },
      "execution_count": 15,
      "outputs": [
        {
          "output_type": "execute_result",
          "data": {
            "text/plain": [
              "     Gender        Age    Height     Weight  family_history_with_overweight  \\\n",
              "81        0  20.000000  1.610000  64.000000                               1   \n",
              "367       0  18.000000  1.600000  55.000000                               0   \n",
              "896       0  22.154854  1.481682  61.373868                               1   \n",
              "408       0  18.000000  1.640000  56.000000                               1   \n",
              "924       1  22.000000  1.691303  80.539000                               1   \n",
              "\n",
              "     FAVC  FCVC       NCP  CAEC  SMOKE      CH2O  SCC      FAF       TUE  \\\n",
              "81      0   3.0  3.000000     0      0  2.000000    1  0.00000  1.000000   \n",
              "367     1   2.0  4.000000     1      0  2.000000    0  2.00000  1.000000   \n",
              "896     0   2.0  2.983297     2      0  1.453626    0  0.32896  0.509396   \n",
              "408     1   3.0  3.000000     1      0  1.000000    1  1.00000  1.000000   \n",
              "924     1   2.0  2.038373     2      0  2.000000    0  2.70825  1.506576   \n",
              "\n",
              "     CALC  MTRANS  NObeyesdad  \n",
              "81      1       3           1  \n",
              "367     2       3           1  \n",
              "896     3       3           3  \n",
              "408     3       3           1  \n",
              "924     2       3           3  "
            ],
            "text/html": [
              "\n",
              "  <div id=\"df-e2d19ac3-4ca7-4e73-8c95-af489dcc7990\">\n",
              "    <div class=\"colab-df-container\">\n",
              "      <div>\n",
              "<style scoped>\n",
              "    .dataframe tbody tr th:only-of-type {\n",
              "        vertical-align: middle;\n",
              "    }\n",
              "\n",
              "    .dataframe tbody tr th {\n",
              "        vertical-align: top;\n",
              "    }\n",
              "\n",
              "    .dataframe thead th {\n",
              "        text-align: right;\n",
              "    }\n",
              "</style>\n",
              "<table border=\"1\" class=\"dataframe\">\n",
              "  <thead>\n",
              "    <tr style=\"text-align: right;\">\n",
              "      <th></th>\n",
              "      <th>Gender</th>\n",
              "      <th>Age</th>\n",
              "      <th>Height</th>\n",
              "      <th>Weight</th>\n",
              "      <th>family_history_with_overweight</th>\n",
              "      <th>FAVC</th>\n",
              "      <th>FCVC</th>\n",
              "      <th>NCP</th>\n",
              "      <th>CAEC</th>\n",
              "      <th>SMOKE</th>\n",
              "      <th>CH2O</th>\n",
              "      <th>SCC</th>\n",
              "      <th>FAF</th>\n",
              "      <th>TUE</th>\n",
              "      <th>CALC</th>\n",
              "      <th>MTRANS</th>\n",
              "      <th>NObeyesdad</th>\n",
              "    </tr>\n",
              "  </thead>\n",
              "  <tbody>\n",
              "    <tr>\n",
              "      <th>81</th>\n",
              "      <td>0</td>\n",
              "      <td>20.000000</td>\n",
              "      <td>1.610000</td>\n",
              "      <td>64.000000</td>\n",
              "      <td>1</td>\n",
              "      <td>0</td>\n",
              "      <td>3.0</td>\n",
              "      <td>3.000000</td>\n",
              "      <td>0</td>\n",
              "      <td>0</td>\n",
              "      <td>2.000000</td>\n",
              "      <td>1</td>\n",
              "      <td>0.00000</td>\n",
              "      <td>1.000000</td>\n",
              "      <td>1</td>\n",
              "      <td>3</td>\n",
              "      <td>1</td>\n",
              "    </tr>\n",
              "    <tr>\n",
              "      <th>367</th>\n",
              "      <td>0</td>\n",
              "      <td>18.000000</td>\n",
              "      <td>1.600000</td>\n",
              "      <td>55.000000</td>\n",
              "      <td>0</td>\n",
              "      <td>1</td>\n",
              "      <td>2.0</td>\n",
              "      <td>4.000000</td>\n",
              "      <td>1</td>\n",
              "      <td>0</td>\n",
              "      <td>2.000000</td>\n",
              "      <td>0</td>\n",
              "      <td>2.00000</td>\n",
              "      <td>1.000000</td>\n",
              "      <td>2</td>\n",
              "      <td>3</td>\n",
              "      <td>1</td>\n",
              "    </tr>\n",
              "    <tr>\n",
              "      <th>896</th>\n",
              "      <td>0</td>\n",
              "      <td>22.154854</td>\n",
              "      <td>1.481682</td>\n",
              "      <td>61.373868</td>\n",
              "      <td>1</td>\n",
              "      <td>0</td>\n",
              "      <td>2.0</td>\n",
              "      <td>2.983297</td>\n",
              "      <td>2</td>\n",
              "      <td>0</td>\n",
              "      <td>1.453626</td>\n",
              "      <td>0</td>\n",
              "      <td>0.32896</td>\n",
              "      <td>0.509396</td>\n",
              "      <td>3</td>\n",
              "      <td>3</td>\n",
              "      <td>3</td>\n",
              "    </tr>\n",
              "    <tr>\n",
              "      <th>408</th>\n",
              "      <td>0</td>\n",
              "      <td>18.000000</td>\n",
              "      <td>1.640000</td>\n",
              "      <td>56.000000</td>\n",
              "      <td>1</td>\n",
              "      <td>1</td>\n",
              "      <td>3.0</td>\n",
              "      <td>3.000000</td>\n",
              "      <td>1</td>\n",
              "      <td>0</td>\n",
              "      <td>1.000000</td>\n",
              "      <td>1</td>\n",
              "      <td>1.00000</td>\n",
              "      <td>1.000000</td>\n",
              "      <td>3</td>\n",
              "      <td>3</td>\n",
              "      <td>1</td>\n",
              "    </tr>\n",
              "    <tr>\n",
              "      <th>924</th>\n",
              "      <td>1</td>\n",
              "      <td>22.000000</td>\n",
              "      <td>1.691303</td>\n",
              "      <td>80.539000</td>\n",
              "      <td>1</td>\n",
              "      <td>1</td>\n",
              "      <td>2.0</td>\n",
              "      <td>2.038373</td>\n",
              "      <td>2</td>\n",
              "      <td>0</td>\n",
              "      <td>2.000000</td>\n",
              "      <td>0</td>\n",
              "      <td>2.70825</td>\n",
              "      <td>1.506576</td>\n",
              "      <td>2</td>\n",
              "      <td>3</td>\n",
              "      <td>3</td>\n",
              "    </tr>\n",
              "  </tbody>\n",
              "</table>\n",
              "</div>\n",
              "      <button class=\"colab-df-convert\" onclick=\"convertToInteractive('df-e2d19ac3-4ca7-4e73-8c95-af489dcc7990')\"\n",
              "              title=\"Convert this dataframe to an interactive table.\"\n",
              "              style=\"display:none;\">\n",
              "        \n",
              "  <svg xmlns=\"http://www.w3.org/2000/svg\" height=\"24px\"viewBox=\"0 0 24 24\"\n",
              "       width=\"24px\">\n",
              "    <path d=\"M0 0h24v24H0V0z\" fill=\"none\"/>\n",
              "    <path d=\"M18.56 5.44l.94 2.06.94-2.06 2.06-.94-2.06-.94-.94-2.06-.94 2.06-2.06.94zm-11 1L8.5 8.5l.94-2.06 2.06-.94-2.06-.94L8.5 2.5l-.94 2.06-2.06.94zm10 10l.94 2.06.94-2.06 2.06-.94-2.06-.94-.94-2.06-.94 2.06-2.06.94z\"/><path d=\"M17.41 7.96l-1.37-1.37c-.4-.4-.92-.59-1.43-.59-.52 0-1.04.2-1.43.59L10.3 9.45l-7.72 7.72c-.78.78-.78 2.05 0 2.83L4 21.41c.39.39.9.59 1.41.59.51 0 1.02-.2 1.41-.59l7.78-7.78 2.81-2.81c.8-.78.8-2.07 0-2.86zM5.41 20L4 18.59l7.72-7.72 1.47 1.35L5.41 20z\"/>\n",
              "  </svg>\n",
              "      </button>\n",
              "      \n",
              "  <style>\n",
              "    .colab-df-container {\n",
              "      display:flex;\n",
              "      flex-wrap:wrap;\n",
              "      gap: 12px;\n",
              "    }\n",
              "\n",
              "    .colab-df-convert {\n",
              "      background-color: #E8F0FE;\n",
              "      border: none;\n",
              "      border-radius: 50%;\n",
              "      cursor: pointer;\n",
              "      display: none;\n",
              "      fill: #1967D2;\n",
              "      height: 32px;\n",
              "      padding: 0 0 0 0;\n",
              "      width: 32px;\n",
              "    }\n",
              "\n",
              "    .colab-df-convert:hover {\n",
              "      background-color: #E2EBFA;\n",
              "      box-shadow: 0px 1px 2px rgba(60, 64, 67, 0.3), 0px 1px 3px 1px rgba(60, 64, 67, 0.15);\n",
              "      fill: #174EA6;\n",
              "    }\n",
              "\n",
              "    [theme=dark] .colab-df-convert {\n",
              "      background-color: #3B4455;\n",
              "      fill: #D2E3FC;\n",
              "    }\n",
              "\n",
              "    [theme=dark] .colab-df-convert:hover {\n",
              "      background-color: #434B5C;\n",
              "      box-shadow: 0px 1px 3px 1px rgba(0, 0, 0, 0.15);\n",
              "      filter: drop-shadow(0px 1px 2px rgba(0, 0, 0, 0.3));\n",
              "      fill: #FFFFFF;\n",
              "    }\n",
              "  </style>\n",
              "\n",
              "      <script>\n",
              "        const buttonEl =\n",
              "          document.querySelector('#df-e2d19ac3-4ca7-4e73-8c95-af489dcc7990 button.colab-df-convert');\n",
              "        buttonEl.style.display =\n",
              "          google.colab.kernel.accessAllowed ? 'block' : 'none';\n",
              "\n",
              "        async function convertToInteractive(key) {\n",
              "          const element = document.querySelector('#df-e2d19ac3-4ca7-4e73-8c95-af489dcc7990');\n",
              "          const dataTable =\n",
              "            await google.colab.kernel.invokeFunction('convertToInteractive',\n",
              "                                                     [key], {});\n",
              "          if (!dataTable) return;\n",
              "\n",
              "          const docLinkHtml = 'Like what you see? Visit the ' +\n",
              "            '<a target=\"_blank\" href=https://colab.research.google.com/notebooks/data_table.ipynb>data table notebook</a>'\n",
              "            + ' to learn more about interactive tables.';\n",
              "          element.innerHTML = '';\n",
              "          dataTable['output_type'] = 'display_data';\n",
              "          await google.colab.output.renderOutput(dataTable, element);\n",
              "          const docLink = document.createElement('div');\n",
              "          docLink.innerHTML = docLinkHtml;\n",
              "          element.appendChild(docLink);\n",
              "        }\n",
              "      </script>\n",
              "    </div>\n",
              "  </div>\n",
              "  "
            ]
          },
          "metadata": {},
          "execution_count": 15
        }
      ]
    },
    {
      "cell_type": "code",
      "source": [
        "X = df.drop('NObeyesdad', axis=1)\n",
        "y = df['NObeyesdad']"
      ],
      "metadata": {
        "id": "iGklFfISbP5Y"
      },
      "execution_count": 16,
      "outputs": []
    },
    {
      "cell_type": "code",
      "source": [
        "categorical_cols = ['Gender', 'family_history_with_overweight', 'FAVC', 'CAEC', 'SMOKE', 'SCC', 'MTRANS']\n",
        "preprocessor = ColumnTransformer(\n",
        "    transformers=[('encoder', OneHotEncoder(), categorical_cols)],\n",
        "    remainder='passthrough'\n",
        ")"
      ],
      "metadata": {
        "id": "--deDJ7jbZAe"
      },
      "execution_count": 17,
      "outputs": []
    },
    {
      "cell_type": "code",
      "source": [
        "X = preprocessor.fit_transform(X)"
      ],
      "metadata": {
        "id": "hXVxCRkXbbVX"
      },
      "execution_count": 18,
      "outputs": []
    },
    {
      "cell_type": "code",
      "source": [
        "X_train, X_test, y_train, y_test = train_test_split(\n",
        "    X, y,\n",
        "    test_size=0.2, random_state=42\n",
        ")"
      ],
      "metadata": {
        "id": "Cb5CMorFbcjf"
      },
      "execution_count": 19,
      "outputs": []
    },
    {
      "cell_type": "code",
      "source": [
        "# Scale the features using StandardScaler\n",
        "scaler = StandardScaler()\n",
        "X_train_scaled = scaler.fit_transform(X_train)\n",
        "X_test_scaled = scaler.transform(X_test)"
      ],
      "metadata": {
        "id": "4mFGaLcybfFG"
      },
      "execution_count": 20,
      "outputs": []
    },
    {
      "cell_type": "code",
      "source": [
        "tf.random.set_seed(42)"
      ],
      "metadata": {
        "id": "ExVLWo5Kbfqe"
      },
      "execution_count": 21,
      "outputs": []
    },
    {
      "cell_type": "code",
      "source": [
        "model = tf.keras.Sequential([\n",
        "    tf.keras.layers.Dense(128, activation='relu'),\n",
        "    tf.keras.layers.Dense(256, activation='relu'),\n",
        "    tf.keras.layers.Dense(128, activation='relu'),\n",
        "    tf.keras.layers.Dense(len(np.unique(y)), activation='softmax')\n",
        "])"
      ],
      "metadata": {
        "id": "EHQJOAUpbi3w"
      },
      "execution_count": 22,
      "outputs": []
    },
    {
      "cell_type": "code",
      "source": [
        "model.compile(\n",
        "    loss=tf.keras.losses.SparseCategoricalCrossentropy(),\n",
        "    optimizer=tf.keras.optimizers.Adam(lr=0.001),\n",
        "    metrics=['accuracy']\n",
        ")"
      ],
      "metadata": {
        "colab": {
          "base_uri": "https://localhost:8080/"
        },
        "id": "YKxyiUHxblWm",
        "outputId": "ec792bec-868e-4a08-9bed-b4b463641907"
      },
      "execution_count": 23,
      "outputs": [
        {
          "output_type": "stream",
          "name": "stderr",
          "text": [
            "WARNING:absl:`lr` is deprecated in Keras optimizer, please use `learning_rate` or use the legacy optimizer, e.g.,tf.keras.optimizers.legacy.Adam.\n"
          ]
        }
      ]
    },
    {
      "cell_type": "code",
      "source": [
        "# Train the model\n",
        "history = model.fit(X_train_scaled, y_train, epochs=100, validation_data=(X_test_scaled, y_test))"
      ],
      "metadata": {
        "colab": {
          "base_uri": "https://localhost:8080/"
        },
        "id": "4oqi_hzybnjG",
        "outputId": "9545f692-a845-459e-d583-d22185d0a75e"
      },
      "execution_count": 24,
      "outputs": [
        {
          "output_type": "stream",
          "name": "stdout",
          "text": [
            "Epoch 1/100\n",
            "28/28 [==============================] - 4s 31ms/step - loss: 1.0424 - accuracy: 0.5863 - val_loss: 0.7501 - val_accuracy: 0.7220\n",
            "Epoch 2/100\n",
            "28/28 [==============================] - 0s 17ms/step - loss: 0.5829 - accuracy: 0.7960 - val_loss: 0.5188 - val_accuracy: 0.8161\n",
            "Epoch 3/100\n",
            "28/28 [==============================] - 0s 16ms/step - loss: 0.3963 - accuracy: 0.8576 - val_loss: 0.3838 - val_accuracy: 0.8700\n",
            "Epoch 4/100\n",
            "28/28 [==============================] - 0s 12ms/step - loss: 0.2678 - accuracy: 0.9092 - val_loss: 0.3795 - val_accuracy: 0.8565\n",
            "Epoch 5/100\n",
            "28/28 [==============================] - 0s 8ms/step - loss: 0.1965 - accuracy: 0.9473 - val_loss: 0.2832 - val_accuracy: 0.9193\n",
            "Epoch 6/100\n",
            "28/28 [==============================] - 0s 9ms/step - loss: 0.1266 - accuracy: 0.9709 - val_loss: 0.2642 - val_accuracy: 0.9148\n",
            "Epoch 7/100\n",
            "28/28 [==============================] - 0s 7ms/step - loss: 0.0838 - accuracy: 0.9843 - val_loss: 0.2407 - val_accuracy: 0.9283\n",
            "Epoch 8/100\n",
            "28/28 [==============================] - 0s 8ms/step - loss: 0.0602 - accuracy: 0.9877 - val_loss: 0.2578 - val_accuracy: 0.9238\n",
            "Epoch 9/100\n",
            "28/28 [==============================] - 0s 8ms/step - loss: 0.0728 - accuracy: 0.9821 - val_loss: 0.2736 - val_accuracy: 0.9193\n",
            "Epoch 10/100\n",
            "28/28 [==============================] - 0s 7ms/step - loss: 0.0392 - accuracy: 0.9933 - val_loss: 0.2485 - val_accuracy: 0.9148\n",
            "Epoch 11/100\n",
            "28/28 [==============================] - 0s 9ms/step - loss: 0.0218 - accuracy: 1.0000 - val_loss: 0.2521 - val_accuracy: 0.9283\n",
            "Epoch 12/100\n",
            "28/28 [==============================] - 0s 9ms/step - loss: 0.0151 - accuracy: 1.0000 - val_loss: 0.2426 - val_accuracy: 0.9372\n",
            "Epoch 13/100\n",
            "28/28 [==============================] - 0s 10ms/step - loss: 0.0110 - accuracy: 1.0000 - val_loss: 0.2429 - val_accuracy: 0.9372\n",
            "Epoch 14/100\n",
            "28/28 [==============================] - 0s 9ms/step - loss: 0.0087 - accuracy: 1.0000 - val_loss: 0.2500 - val_accuracy: 0.9372\n",
            "Epoch 15/100\n",
            "28/28 [==============================] - 0s 12ms/step - loss: 0.0068 - accuracy: 1.0000 - val_loss: 0.2558 - val_accuracy: 0.9462\n",
            "Epoch 16/100\n",
            "28/28 [==============================] - 0s 13ms/step - loss: 0.0056 - accuracy: 1.0000 - val_loss: 0.2563 - val_accuracy: 0.9417\n",
            "Epoch 17/100\n",
            "28/28 [==============================] - 0s 12ms/step - loss: 0.0048 - accuracy: 1.0000 - val_loss: 0.2612 - val_accuracy: 0.9417\n",
            "Epoch 18/100\n",
            "28/28 [==============================] - 0s 14ms/step - loss: 0.0041 - accuracy: 1.0000 - val_loss: 0.2656 - val_accuracy: 0.9417\n",
            "Epoch 19/100\n",
            "28/28 [==============================] - 0s 14ms/step - loss: 0.0038 - accuracy: 1.0000 - val_loss: 0.2668 - val_accuracy: 0.9462\n",
            "Epoch 20/100\n",
            "28/28 [==============================] - 0s 12ms/step - loss: 0.0032 - accuracy: 1.0000 - val_loss: 0.2687 - val_accuracy: 0.9417\n",
            "Epoch 21/100\n",
            "28/28 [==============================] - 0s 7ms/step - loss: 0.0028 - accuracy: 1.0000 - val_loss: 0.2678 - val_accuracy: 0.9417\n",
            "Epoch 22/100\n",
            "28/28 [==============================] - 0s 8ms/step - loss: 0.0025 - accuracy: 1.0000 - val_loss: 0.2709 - val_accuracy: 0.9417\n",
            "Epoch 23/100\n",
            "28/28 [==============================] - 0s 7ms/step - loss: 0.0023 - accuracy: 1.0000 - val_loss: 0.2816 - val_accuracy: 0.9372\n",
            "Epoch 24/100\n",
            "28/28 [==============================] - 0s 6ms/step - loss: 0.0020 - accuracy: 1.0000 - val_loss: 0.2755 - val_accuracy: 0.9417\n",
            "Epoch 25/100\n",
            "28/28 [==============================] - 0s 6ms/step - loss: 0.0018 - accuracy: 1.0000 - val_loss: 0.2789 - val_accuracy: 0.9417\n",
            "Epoch 26/100\n",
            "28/28 [==============================] - 0s 6ms/step - loss: 0.0017 - accuracy: 1.0000 - val_loss: 0.2797 - val_accuracy: 0.9417\n",
            "Epoch 27/100\n",
            "28/28 [==============================] - 0s 6ms/step - loss: 0.0015 - accuracy: 1.0000 - val_loss: 0.2825 - val_accuracy: 0.9417\n",
            "Epoch 28/100\n",
            "28/28 [==============================] - 0s 7ms/step - loss: 0.0014 - accuracy: 1.0000 - val_loss: 0.2811 - val_accuracy: 0.9417\n",
            "Epoch 29/100\n",
            "28/28 [==============================] - 0s 7ms/step - loss: 0.0012 - accuracy: 1.0000 - val_loss: 0.2852 - val_accuracy: 0.9417\n",
            "Epoch 30/100\n",
            "28/28 [==============================] - 0s 7ms/step - loss: 0.0012 - accuracy: 1.0000 - val_loss: 0.2825 - val_accuracy: 0.9417\n",
            "Epoch 31/100\n",
            "28/28 [==============================] - 0s 6ms/step - loss: 0.0011 - accuracy: 1.0000 - val_loss: 0.2871 - val_accuracy: 0.9417\n",
            "Epoch 32/100\n",
            "28/28 [==============================] - 0s 8ms/step - loss: 9.8859e-04 - accuracy: 1.0000 - val_loss: 0.2875 - val_accuracy: 0.9417\n",
            "Epoch 33/100\n",
            "28/28 [==============================] - 0s 4ms/step - loss: 9.2104e-04 - accuracy: 1.0000 - val_loss: 0.2855 - val_accuracy: 0.9417\n",
            "Epoch 34/100\n",
            "28/28 [==============================] - 0s 5ms/step - loss: 8.5477e-04 - accuracy: 1.0000 - val_loss: 0.2922 - val_accuracy: 0.9417\n",
            "Epoch 35/100\n",
            "28/28 [==============================] - 0s 4ms/step - loss: 8.1698e-04 - accuracy: 1.0000 - val_loss: 0.2899 - val_accuracy: 0.9417\n",
            "Epoch 36/100\n",
            "28/28 [==============================] - 0s 4ms/step - loss: 7.5315e-04 - accuracy: 1.0000 - val_loss: 0.2942 - val_accuracy: 0.9417\n",
            "Epoch 37/100\n",
            "28/28 [==============================] - 0s 4ms/step - loss: 6.9847e-04 - accuracy: 1.0000 - val_loss: 0.2938 - val_accuracy: 0.9417\n",
            "Epoch 38/100\n",
            "28/28 [==============================] - 0s 5ms/step - loss: 6.5924e-04 - accuracy: 1.0000 - val_loss: 0.2965 - val_accuracy: 0.9417\n",
            "Epoch 39/100\n",
            "28/28 [==============================] - 0s 4ms/step - loss: 6.2539e-04 - accuracy: 1.0000 - val_loss: 0.2959 - val_accuracy: 0.9417\n",
            "Epoch 40/100\n",
            "28/28 [==============================] - 0s 4ms/step - loss: 5.8753e-04 - accuracy: 1.0000 - val_loss: 0.3010 - val_accuracy: 0.9417\n",
            "Epoch 41/100\n",
            "28/28 [==============================] - 0s 5ms/step - loss: 5.5818e-04 - accuracy: 1.0000 - val_loss: 0.2991 - val_accuracy: 0.9417\n",
            "Epoch 42/100\n",
            "28/28 [==============================] - 0s 4ms/step - loss: 5.2635e-04 - accuracy: 1.0000 - val_loss: 0.3006 - val_accuracy: 0.9417\n",
            "Epoch 43/100\n",
            "28/28 [==============================] - 0s 5ms/step - loss: 5.0180e-04 - accuracy: 1.0000 - val_loss: 0.3027 - val_accuracy: 0.9417\n",
            "Epoch 44/100\n",
            "28/28 [==============================] - 0s 4ms/step - loss: 4.6598e-04 - accuracy: 1.0000 - val_loss: 0.3016 - val_accuracy: 0.9417\n",
            "Epoch 45/100\n",
            "28/28 [==============================] - 0s 4ms/step - loss: 4.4362e-04 - accuracy: 1.0000 - val_loss: 0.3039 - val_accuracy: 0.9417\n",
            "Epoch 46/100\n",
            "28/28 [==============================] - 0s 4ms/step - loss: 4.2174e-04 - accuracy: 1.0000 - val_loss: 0.3046 - val_accuracy: 0.9417\n",
            "Epoch 47/100\n",
            "28/28 [==============================] - 0s 4ms/step - loss: 3.9799e-04 - accuracy: 1.0000 - val_loss: 0.3059 - val_accuracy: 0.9417\n",
            "Epoch 48/100\n",
            "28/28 [==============================] - 0s 5ms/step - loss: 3.8106e-04 - accuracy: 1.0000 - val_loss: 0.3056 - val_accuracy: 0.9417\n",
            "Epoch 49/100\n",
            "28/28 [==============================] - 0s 4ms/step - loss: 3.5731e-04 - accuracy: 1.0000 - val_loss: 0.3080 - val_accuracy: 0.9417\n",
            "Epoch 50/100\n",
            "28/28 [==============================] - 0s 5ms/step - loss: 3.4188e-04 - accuracy: 1.0000 - val_loss: 0.3074 - val_accuracy: 0.9417\n",
            "Epoch 51/100\n",
            "28/28 [==============================] - 0s 5ms/step - loss: 3.2694e-04 - accuracy: 1.0000 - val_loss: 0.3095 - val_accuracy: 0.9417\n",
            "Epoch 52/100\n",
            "28/28 [==============================] - 0s 4ms/step - loss: 3.1659e-04 - accuracy: 1.0000 - val_loss: 0.3105 - val_accuracy: 0.9417\n",
            "Epoch 53/100\n",
            "28/28 [==============================] - 0s 4ms/step - loss: 2.9788e-04 - accuracy: 1.0000 - val_loss: 0.3112 - val_accuracy: 0.9417\n",
            "Epoch 54/100\n",
            "28/28 [==============================] - 0s 4ms/step - loss: 2.8817e-04 - accuracy: 1.0000 - val_loss: 0.3116 - val_accuracy: 0.9417\n",
            "Epoch 55/100\n",
            "28/28 [==============================] - 0s 4ms/step - loss: 2.7485e-04 - accuracy: 1.0000 - val_loss: 0.3128 - val_accuracy: 0.9417\n",
            "Epoch 56/100\n",
            "28/28 [==============================] - 0s 5ms/step - loss: 2.5940e-04 - accuracy: 1.0000 - val_loss: 0.3135 - val_accuracy: 0.9417\n",
            "Epoch 57/100\n",
            "28/28 [==============================] - 0s 4ms/step - loss: 2.5121e-04 - accuracy: 1.0000 - val_loss: 0.3141 - val_accuracy: 0.9417\n",
            "Epoch 58/100\n",
            "28/28 [==============================] - 0s 4ms/step - loss: 2.4194e-04 - accuracy: 1.0000 - val_loss: 0.3161 - val_accuracy: 0.9417\n",
            "Epoch 59/100\n",
            "28/28 [==============================] - 0s 4ms/step - loss: 2.3283e-04 - accuracy: 1.0000 - val_loss: 0.3148 - val_accuracy: 0.9417\n",
            "Epoch 60/100\n",
            "28/28 [==============================] - 0s 4ms/step - loss: 2.2111e-04 - accuracy: 1.0000 - val_loss: 0.3169 - val_accuracy: 0.9417\n",
            "Epoch 61/100\n",
            "28/28 [==============================] - 0s 5ms/step - loss: 2.1599e-04 - accuracy: 1.0000 - val_loss: 0.3190 - val_accuracy: 0.9417\n",
            "Epoch 62/100\n",
            "28/28 [==============================] - 0s 4ms/step - loss: 2.0605e-04 - accuracy: 1.0000 - val_loss: 0.3194 - val_accuracy: 0.9417\n",
            "Epoch 63/100\n",
            "28/28 [==============================] - 0s 4ms/step - loss: 1.9736e-04 - accuracy: 1.0000 - val_loss: 0.3192 - val_accuracy: 0.9417\n",
            "Epoch 64/100\n",
            "28/28 [==============================] - 0s 5ms/step - loss: 1.9061e-04 - accuracy: 1.0000 - val_loss: 0.3193 - val_accuracy: 0.9417\n",
            "Epoch 65/100\n",
            "28/28 [==============================] - 0s 4ms/step - loss: 1.8233e-04 - accuracy: 1.0000 - val_loss: 0.3218 - val_accuracy: 0.9417\n",
            "Epoch 66/100\n",
            "28/28 [==============================] - 0s 5ms/step - loss: 1.7668e-04 - accuracy: 1.0000 - val_loss: 0.3221 - val_accuracy: 0.9417\n",
            "Epoch 67/100\n",
            "28/28 [==============================] - 0s 4ms/step - loss: 1.7145e-04 - accuracy: 1.0000 - val_loss: 0.3225 - val_accuracy: 0.9417\n",
            "Epoch 68/100\n",
            "28/28 [==============================] - 0s 5ms/step - loss: 1.6398e-04 - accuracy: 1.0000 - val_loss: 0.3235 - val_accuracy: 0.9417\n",
            "Epoch 69/100\n",
            "28/28 [==============================] - 0s 4ms/step - loss: 1.6021e-04 - accuracy: 1.0000 - val_loss: 0.3235 - val_accuracy: 0.9417\n",
            "Epoch 70/100\n",
            "28/28 [==============================] - 0s 4ms/step - loss: 1.5529e-04 - accuracy: 1.0000 - val_loss: 0.3237 - val_accuracy: 0.9417\n",
            "Epoch 71/100\n",
            "28/28 [==============================] - 0s 5ms/step - loss: 1.4716e-04 - accuracy: 1.0000 - val_loss: 0.3252 - val_accuracy: 0.9417\n",
            "Epoch 72/100\n",
            "28/28 [==============================] - 0s 5ms/step - loss: 1.4216e-04 - accuracy: 1.0000 - val_loss: 0.3254 - val_accuracy: 0.9417\n",
            "Epoch 73/100\n",
            "28/28 [==============================] - 0s 5ms/step - loss: 1.3859e-04 - accuracy: 1.0000 - val_loss: 0.3265 - val_accuracy: 0.9417\n",
            "Epoch 74/100\n",
            "28/28 [==============================] - 0s 5ms/step - loss: 1.3395e-04 - accuracy: 1.0000 - val_loss: 0.3270 - val_accuracy: 0.9417\n",
            "Epoch 75/100\n",
            "28/28 [==============================] - 0s 4ms/step - loss: 1.2841e-04 - accuracy: 1.0000 - val_loss: 0.3280 - val_accuracy: 0.9417\n",
            "Epoch 76/100\n",
            "28/28 [==============================] - 0s 5ms/step - loss: 1.2621e-04 - accuracy: 1.0000 - val_loss: 0.3277 - val_accuracy: 0.9417\n",
            "Epoch 77/100\n",
            "28/28 [==============================] - 0s 4ms/step - loss: 1.2108e-04 - accuracy: 1.0000 - val_loss: 0.3302 - val_accuracy: 0.9417\n",
            "Epoch 78/100\n",
            "28/28 [==============================] - 0s 4ms/step - loss: 1.1862e-04 - accuracy: 1.0000 - val_loss: 0.3299 - val_accuracy: 0.9417\n",
            "Epoch 79/100\n",
            "28/28 [==============================] - 0s 4ms/step - loss: 1.1294e-04 - accuracy: 1.0000 - val_loss: 0.3311 - val_accuracy: 0.9417\n",
            "Epoch 80/100\n",
            "28/28 [==============================] - 0s 4ms/step - loss: 1.1045e-04 - accuracy: 1.0000 - val_loss: 0.3311 - val_accuracy: 0.9417\n",
            "Epoch 81/100\n",
            "28/28 [==============================] - 0s 5ms/step - loss: 1.0568e-04 - accuracy: 1.0000 - val_loss: 0.3308 - val_accuracy: 0.9417\n",
            "Epoch 82/100\n",
            "28/28 [==============================] - 0s 4ms/step - loss: 1.0313e-04 - accuracy: 1.0000 - val_loss: 0.3325 - val_accuracy: 0.9417\n",
            "Epoch 83/100\n",
            "28/28 [==============================] - 0s 4ms/step - loss: 1.0073e-04 - accuracy: 1.0000 - val_loss: 0.3332 - val_accuracy: 0.9417\n",
            "Epoch 84/100\n",
            "28/28 [==============================] - 0s 4ms/step - loss: 9.6923e-05 - accuracy: 1.0000 - val_loss: 0.3332 - val_accuracy: 0.9417\n",
            "Epoch 85/100\n",
            "28/28 [==============================] - 0s 4ms/step - loss: 9.4569e-05 - accuracy: 1.0000 - val_loss: 0.3341 - val_accuracy: 0.9417\n",
            "Epoch 86/100\n",
            "28/28 [==============================] - 0s 4ms/step - loss: 9.3243e-05 - accuracy: 1.0000 - val_loss: 0.3353 - val_accuracy: 0.9417\n",
            "Epoch 87/100\n",
            "28/28 [==============================] - 0s 4ms/step - loss: 8.8428e-05 - accuracy: 1.0000 - val_loss: 0.3355 - val_accuracy: 0.9417\n",
            "Epoch 88/100\n",
            "28/28 [==============================] - 0s 4ms/step - loss: 8.6187e-05 - accuracy: 1.0000 - val_loss: 0.3368 - val_accuracy: 0.9417\n",
            "Epoch 89/100\n",
            "28/28 [==============================] - 0s 5ms/step - loss: 8.4282e-05 - accuracy: 1.0000 - val_loss: 0.3363 - val_accuracy: 0.9417\n",
            "Epoch 90/100\n",
            "28/28 [==============================] - 0s 4ms/step - loss: 8.0831e-05 - accuracy: 1.0000 - val_loss: 0.3382 - val_accuracy: 0.9417\n",
            "Epoch 91/100\n",
            "28/28 [==============================] - 0s 4ms/step - loss: 8.0527e-05 - accuracy: 1.0000 - val_loss: 0.3383 - val_accuracy: 0.9417\n",
            "Epoch 92/100\n",
            "28/28 [==============================] - 0s 4ms/step - loss: 7.6743e-05 - accuracy: 1.0000 - val_loss: 0.3389 - val_accuracy: 0.9417\n",
            "Epoch 93/100\n",
            "28/28 [==============================] - 0s 6ms/step - loss: 7.4980e-05 - accuracy: 1.0000 - val_loss: 0.3392 - val_accuracy: 0.9462\n",
            "Epoch 94/100\n",
            "28/28 [==============================] - 0s 18ms/step - loss: 7.2910e-05 - accuracy: 1.0000 - val_loss: 0.3404 - val_accuracy: 0.9417\n",
            "Epoch 95/100\n",
            "28/28 [==============================] - 0s 8ms/step - loss: 7.1320e-05 - accuracy: 1.0000 - val_loss: 0.3410 - val_accuracy: 0.9417\n",
            "Epoch 96/100\n",
            "28/28 [==============================] - 0s 5ms/step - loss: 6.8682e-05 - accuracy: 1.0000 - val_loss: 0.3418 - val_accuracy: 0.9417\n",
            "Epoch 97/100\n",
            "28/28 [==============================] - 0s 4ms/step - loss: 6.6731e-05 - accuracy: 1.0000 - val_loss: 0.3415 - val_accuracy: 0.9462\n",
            "Epoch 98/100\n",
            "28/28 [==============================] - 0s 5ms/step - loss: 6.5539e-05 - accuracy: 1.0000 - val_loss: 0.3422 - val_accuracy: 0.9417\n",
            "Epoch 99/100\n",
            "28/28 [==============================] - 0s 17ms/step - loss: 6.3825e-05 - accuracy: 1.0000 - val_loss: 0.3431 - val_accuracy: 0.9417\n",
            "Epoch 100/100\n",
            "28/28 [==============================] - 0s 9ms/step - loss: 6.1521e-05 - accuracy: 1.0000 - val_loss: 0.3434 - val_accuracy: 0.9462\n"
          ]
        }
      ]
    },
    {
      "cell_type": "markdown",
      "source": [],
      "metadata": {
        "id": "4Djhz3sgb9L5"
      }
    },
    {
      "cell_type": "code",
      "source": [
        "# Evaluate the model on the test set\n",
        "test_loss, test_accuracy = model.evaluate(X_test_scaled, y_test)"
      ],
      "metadata": {
        "colab": {
          "base_uri": "https://localhost:8080/"
        },
        "id": "JfVOrjaAb-Ch",
        "outputId": "af9324ca-a1c8-4872-ede2-2943bcca1143"
      },
      "execution_count": 25,
      "outputs": [
        {
          "output_type": "stream",
          "name": "stdout",
          "text": [
            "7/7 [==============================] - 0s 3ms/step - loss: 0.3434 - accuracy: 0.9462\n"
          ]
        }
      ]
    },
    {
      "cell_type": "code",
      "source": [
        "# Print the evaluation results\n",
        "print(\"Test Loss:\", test_loss)\n",
        "print(\"Test Accuracy:\", test_accuracy)"
      ],
      "metadata": {
        "colab": {
          "base_uri": "https://localhost:8080/"
        },
        "id": "J1TxaK2kcA5W",
        "outputId": "77ae7d26-f1c8-4153-f0fc-90e29c84dc08"
      },
      "execution_count": 26,
      "outputs": [
        {
          "output_type": "stream",
          "name": "stdout",
          "text": [
            "Test Loss: 0.34339678287506104\n",
            "Test Accuracy: 0.9461883306503296\n"
          ]
        }
      ]
    },
    {
      "cell_type": "code",
      "source": [
        "model.save('BMI.h5')"
      ],
      "metadata": {
        "id": "I32ObC3wTQEi"
      },
      "execution_count": 27,
      "outputs": []
    },
    {
      "cell_type": "code",
      "source": [
        "from google.colab import files\n",
        "files.download('BMI.h5')"
      ],
      "metadata": {
        "colab": {
          "base_uri": "https://localhost:8080/",
          "height": 17
        },
        "id": "TtdivTnETk4q",
        "outputId": "22c80103-50ce-4011-a66f-f1d3f08f28b2"
      },
      "execution_count": 28,
      "outputs": [
        {
          "output_type": "display_data",
          "data": {
            "text/plain": [
              "<IPython.core.display.Javascript object>"
            ],
            "application/javascript": [
              "\n",
              "    async function download(id, filename, size) {\n",
              "      if (!google.colab.kernel.accessAllowed) {\n",
              "        return;\n",
              "      }\n",
              "      const div = document.createElement('div');\n",
              "      const label = document.createElement('label');\n",
              "      label.textContent = `Downloading \"${filename}\": `;\n",
              "      div.appendChild(label);\n",
              "      const progress = document.createElement('progress');\n",
              "      progress.max = size;\n",
              "      div.appendChild(progress);\n",
              "      document.body.appendChild(div);\n",
              "\n",
              "      const buffers = [];\n",
              "      let downloaded = 0;\n",
              "\n",
              "      const channel = await google.colab.kernel.comms.open(id);\n",
              "      // Send a message to notify the kernel that we're ready.\n",
              "      channel.send({})\n",
              "\n",
              "      for await (const message of channel.messages) {\n",
              "        // Send a message to notify the kernel that we're ready.\n",
              "        channel.send({})\n",
              "        if (message.buffers) {\n",
              "          for (const buffer of message.buffers) {\n",
              "            buffers.push(buffer);\n",
              "            downloaded += buffer.byteLength;\n",
              "            progress.value = downloaded;\n",
              "          }\n",
              "        }\n",
              "      }\n",
              "      const blob = new Blob(buffers, {type: 'application/binary'});\n",
              "      const a = document.createElement('a');\n",
              "      a.href = window.URL.createObjectURL(blob);\n",
              "      a.download = filename;\n",
              "      div.appendChild(a);\n",
              "      a.click();\n",
              "      div.remove();\n",
              "    }\n",
              "  "
            ]
          },
          "metadata": {}
        },
        {
          "output_type": "display_data",
          "data": {
            "text/plain": [
              "<IPython.core.display.Javascript object>"
            ],
            "application/javascript": [
              "download(\"download_73496b7f-46c5-4f7e-ac16-134825a29753\", \"BMI.h5\", 880192)"
            ]
          },
          "metadata": {}
        }
      ]
    }
  ]
}